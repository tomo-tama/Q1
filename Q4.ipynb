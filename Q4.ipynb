{
 "cells": [
  {
   "cell_type": "code",
   "execution_count": null,
   "metadata": {},
   "outputs": [],
   "source": [
    "def gcd(a, b):\n",
    "  while b > 0:\n",
    "    a, b = b, a % b\n",
    "  return a\n",
    "\n",
    "def lcm(a, b):\n",
    "  return a * b / gcd(a, b)\n",
    "\n",
    "if __name__ == '__main__':\n",
    "    src = range(2, 21)\n",
    "    c=1  \n",
    "    for i in src:\n",
    "        d = lcm(c, i)\n",
    "        c=d\n",
    "    print(c)"
   ]
  }
 ],
 "metadata": {
  "kernelspec": {
   "display_name": "Python 3",
   "language": "python",
   "name": "python3"
  },
  "language_info": {
   "codemirror_mode": {
    "name": "ipython",
    "version": 3
   },
   "file_extension": ".py",
   "mimetype": "text/x-python",
   "name": "python",
   "nbconvert_exporter": "python",
   "pygments_lexer": "ipython3",
   "version": "3.7.0"
  }
 },
 "nbformat": 4,
 "nbformat_minor": 2
}
